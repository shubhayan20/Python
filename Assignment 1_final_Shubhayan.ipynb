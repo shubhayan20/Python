{
 "cells": [
  {
   "cell_type": "markdown",
   "metadata": {},
   "source": [
    "# Assignment 1: Shubhayan Bhattacharya, IIT Madras (GroupB, ML)"
   ]
  },
  {
   "cell_type": "code",
   "execution_count": 1,
   "metadata": {},
   "outputs": [],
   "source": [
    "import numpy as np\n",
    "import pandas as pd"
   ]
  },
  {
   "cell_type": "markdown",
   "metadata": {},
   "source": [
    "### Question 1: Convert tuple to list, set, Dictionary \n"
   ]
  },
  {
   "cell_type": "code",
   "execution_count": 2,
   "metadata": {},
   "outputs": [
    {
     "name": "stdout",
     "output_type": "stream",
     "text": [
      "(('USA', 'Ford'), ('Japan', 'Honda'), ('Italy', 'Alfa Romeo'), ('India', 'Maruti'))\n"
     ]
    },
    {
     "data": {
      "text/plain": [
       "tuple"
      ]
     },
     "execution_count": 2,
     "metadata": {},
     "output_type": "execute_result"
    }
   ],
   "source": [
    "tuple_cars = (('USA','Ford'), ('Japan','Honda'), ('Italy','Alfa Romeo'), ('India', 'Maruti'))\n",
    "print (tuple_cars)\n",
    "type (tuple_cars)\n",
    "\n"
   ]
  },
  {
   "cell_type": "code",
   "execution_count": 3,
   "metadata": {},
   "outputs": [
    {
     "name": "stdout",
     "output_type": "stream",
     "text": [
      "[('USA', 'Ford'), ('Japan', 'Honda'), ('Italy', 'Alfa Romeo'), ('India', 'Maruti')]\n"
     ]
    },
    {
     "data": {
      "text/plain": [
       "list"
      ]
     },
     "execution_count": 3,
     "metadata": {},
     "output_type": "execute_result"
    }
   ],
   "source": [
    "list1=list (tuple_cars)\n",
    "print (list1)\n",
    "type (list1)"
   ]
  },
  {
   "cell_type": "code",
   "execution_count": 4,
   "metadata": {},
   "outputs": [
    {
     "name": "stdout",
     "output_type": "stream",
     "text": [
      "{('Italy', 'Alfa Romeo'), ('India', 'Maruti'), ('Japan', 'Honda'), ('USA', 'Ford')}\n"
     ]
    },
    {
     "data": {
      "text/plain": [
       "set"
      ]
     },
     "execution_count": 4,
     "metadata": {},
     "output_type": "execute_result"
    }
   ],
   "source": [
    "set1=set (tuple_cars)\n",
    "print(set1)\n",
    "type(set1)"
   ]
  },
  {
   "cell_type": "code",
   "execution_count": 5,
   "metadata": {},
   "outputs": [
    {
     "name": "stdout",
     "output_type": "stream",
     "text": [
      "{'USA': 'Ford', 'Japan': 'Honda', 'Italy': 'Alfa Romeo', 'India': 'Maruti'}\n"
     ]
    },
    {
     "data": {
      "text/plain": [
       "dict"
      ]
     },
     "execution_count": 5,
     "metadata": {},
     "output_type": "execute_result"
    }
   ],
   "source": [
    "dict1=dict (tuple_cars)\n",
    "print (dict1)\n",
    "type (dict1)"
   ]
  },
  {
   "cell_type": "markdown",
   "metadata": {},
   "source": [
    "### Question 2: Convert list to tuple, set, Dictionary \n"
   ]
  },
  {
   "cell_type": "code",
   "execution_count": 18,
   "metadata": {},
   "outputs": [
    {
     "name": "stdout",
     "output_type": "stream",
     "text": [
      "[('USA', 'Ford'), ('Japan', 'Honda'), ('Italy', 'Alfa Romeo'), ('India', 'Maruti')]\n"
     ]
    },
    {
     "data": {
      "text/plain": [
       "list"
      ]
     },
     "execution_count": 18,
     "metadata": {},
     "output_type": "execute_result"
    }
   ],
   "source": [
    "list_cars =[('USA', 'Ford'),('Japan', 'Honda'),('Italy', 'Alfa Romeo'),('India', 'Maruti')]\n",
    "print(list_cars)\n",
    "type(list_cars)"
   ]
  },
  {
   "cell_type": "code",
   "execution_count": 10,
   "metadata": {},
   "outputs": [
    {
     "name": "stdout",
     "output_type": "stream",
     "text": [
      "(('USA', 'Ford'), ('Japan', 'Honda'), ('Italy', 'Alfa Romeo'), ('India', 'Maruti'))\n"
     ]
    },
    {
     "data": {
      "text/plain": [
       "tuple"
      ]
     },
     "execution_count": 10,
     "metadata": {},
     "output_type": "execute_result"
    }
   ],
   "source": [
    "tuple1= tuple (list_cars)\n",
    "print (tuple1)\n",
    "type (tuple1)"
   ]
  },
  {
   "cell_type": "code",
   "execution_count": 11,
   "metadata": {},
   "outputs": [
    {
     "name": "stdout",
     "output_type": "stream",
     "text": [
      "{('Italy', 'Alfa Romeo'), ('India', 'Maruti'), ('Japan', 'Honda'), ('USA', 'Ford')}\n"
     ]
    },
    {
     "data": {
      "text/plain": [
       "set"
      ]
     },
     "execution_count": 11,
     "metadata": {},
     "output_type": "execute_result"
    }
   ],
   "source": [
    "set2=set (list_cars)\n",
    "print(set2)\n",
    "type(set2)"
   ]
  },
  {
   "cell_type": "code",
   "execution_count": 12,
   "metadata": {},
   "outputs": [
    {
     "name": "stdout",
     "output_type": "stream",
     "text": [
      "{'USA': 'Ford', 'Japan': 'Honda', 'Italy': 'Alfa Romeo', 'India': 'Maruti'}\n"
     ]
    },
    {
     "data": {
      "text/plain": [
       "dict"
      ]
     },
     "execution_count": 12,
     "metadata": {},
     "output_type": "execute_result"
    }
   ],
   "source": [
    "dict1=dict (list_cars)\n",
    "print (dict1)\n",
    "type(dict1)"
   ]
  },
  {
   "cell_type": "markdown",
   "metadata": {},
   "source": [
    "### Question 3: Convert set to list, tuple, Dictionary "
   ]
  },
  {
   "cell_type": "code",
   "execution_count": 13,
   "metadata": {},
   "outputs": [
    {
     "name": "stdout",
     "output_type": "stream",
     "text": [
      "{('Italy', 'Alfa Romeo'), ('India', 'Maruti'), ('Japan', 'Honda'), ('USA', 'Ford')}\n"
     ]
    },
    {
     "data": {
      "text/plain": [
       "set"
      ]
     },
     "execution_count": 13,
     "metadata": {},
     "output_type": "execute_result"
    }
   ],
   "source": [
    "print (set2)\n",
    "type (set2)\n"
   ]
  },
  {
   "cell_type": "code",
   "execution_count": 14,
   "metadata": {},
   "outputs": [
    {
     "name": "stdout",
     "output_type": "stream",
     "text": [
      "[('Italy', 'Alfa Romeo'), ('India', 'Maruti'), ('Japan', 'Honda'), ('USA', 'Ford')]\n"
     ]
    },
    {
     "data": {
      "text/plain": [
       "list"
      ]
     },
     "execution_count": 14,
     "metadata": {},
     "output_type": "execute_result"
    }
   ],
   "source": [
    "list3=list (set2)\n",
    "print (list3)\n",
    "type (list3)"
   ]
  },
  {
   "cell_type": "code",
   "execution_count": 15,
   "metadata": {},
   "outputs": [
    {
     "name": "stdout",
     "output_type": "stream",
     "text": [
      "(('Italy', 'Alfa Romeo'), ('India', 'Maruti'), ('Japan', 'Honda'), ('USA', 'Ford'))\n"
     ]
    },
    {
     "data": {
      "text/plain": [
       "tuple"
      ]
     },
     "execution_count": 15,
     "metadata": {},
     "output_type": "execute_result"
    }
   ],
   "source": [
    "tuple2= tuple (set2)\n",
    "print (tuple2)\n",
    "type (tuple2)"
   ]
  },
  {
   "cell_type": "code",
   "execution_count": 16,
   "metadata": {},
   "outputs": [
    {
     "name": "stdout",
     "output_type": "stream",
     "text": [
      "{'Italy': 'Alfa Romeo', 'India': 'Maruti', 'Japan': 'Honda', 'USA': 'Ford'}\n"
     ]
    },
    {
     "data": {
      "text/plain": [
       "dict"
      ]
     },
     "execution_count": 16,
     "metadata": {},
     "output_type": "execute_result"
    }
   ],
   "source": [
    "dict2=dict(set2)\n",
    "print (dict2)\n",
    "type (dict2)"
   ]
  },
  {
   "cell_type": "markdown",
   "metadata": {},
   "source": [
    "### Question 4: Convert Dictionary to list, set, tuple"
   ]
  },
  {
   "cell_type": "code",
   "execution_count": 17,
   "metadata": {},
   "outputs": [
    {
     "name": "stdout",
     "output_type": "stream",
     "text": [
      "{'Italy': 'Alfa Romeo', 'India': 'Maruti', 'Japan': 'Honda', 'USA': 'Ford'}\n"
     ]
    },
    {
     "data": {
      "text/plain": [
       "dict"
      ]
     },
     "execution_count": 17,
     "metadata": {},
     "output_type": "execute_result"
    }
   ],
   "source": [
    "print (dict2)\n",
    "type (dict2)"
   ]
  },
  {
   "cell_type": "code",
   "execution_count": 18,
   "metadata": {},
   "outputs": [
    {
     "name": "stdout",
     "output_type": "stream",
     "text": [
      "[('Italy', 'Alfa Romeo'), ('India', 'Maruti'), ('Japan', 'Honda'), ('USA', 'Ford')]\n"
     ]
    },
    {
     "data": {
      "text/plain": [
       "list"
      ]
     },
     "execution_count": 18,
     "metadata": {},
     "output_type": "execute_result"
    }
   ],
   "source": [
    "list4 = [(k, v) for k, v in dict2.items()]\n",
    "print (list4)\n",
    "type (list4)"
   ]
  },
  {
   "cell_type": "code",
   "execution_count": 19,
   "metadata": {},
   "outputs": [
    {
     "name": "stdout",
     "output_type": "stream",
     "text": [
      "{'Japan', 'Italy', 'USA', 'India'}\n"
     ]
    },
    {
     "data": {
      "text/plain": [
       "set"
      ]
     },
     "execution_count": 19,
     "metadata": {},
     "output_type": "execute_result"
    }
   ],
   "source": [
    "set3= set (dict2)\n",
    "print (set3)\n",
    "type (set3)"
   ]
  },
  {
   "cell_type": "code",
   "execution_count": 20,
   "metadata": {},
   "outputs": [
    {
     "name": "stdout",
     "output_type": "stream",
     "text": [
      "<class '__main__.List'>\n"
     ]
    },
    {
     "data": {
      "text/plain": [
       "type"
      ]
     },
     "execution_count": 20,
     "metadata": {},
     "output_type": "execute_result"
    }
   ],
   "source": [
    "import collections\n",
    "list5 = collections.namedtuple('List', 'name value') \n",
    "print (list5)\n",
    "type (list5)"
   ]
  },
  {
   "cell_type": "markdown",
   "metadata": {},
   "source": [
    "### Question 5: Create a list and perform pop, append, update, remove, delete, add element and sort operation"
   ]
  },
  {
   "cell_type": "code",
   "execution_count": 21,
   "metadata": {},
   "outputs": [
    {
     "data": {
      "text/plain": [
       "list"
      ]
     },
     "execution_count": 21,
     "metadata": {},
     "output_type": "execute_result"
    }
   ],
   "source": [
    "list_fruits= ['apple', 'banana', 'guava', 'watermelon', 'orange']\n",
    "type (list_fruits)"
   ]
  },
  {
   "cell_type": "code",
   "execution_count": 22,
   "metadata": {},
   "outputs": [
    {
     "name": "stdout",
     "output_type": "stream",
     "text": [
      "['apple', 'banana', 'guava', 'watermelon', 'orange']\n"
     ]
    }
   ],
   "source": [
    "print (list_fruits)"
   ]
  },
  {
   "cell_type": "code",
   "execution_count": 23,
   "metadata": {},
   "outputs": [
    {
     "name": "stdout",
     "output_type": "stream",
     "text": [
      "orange\n"
     ]
    }
   ],
   "source": [
    "z= list_fruits.pop()\n",
    "print (z)"
   ]
  },
  {
   "cell_type": "code",
   "execution_count": 24,
   "metadata": {},
   "outputs": [
    {
     "name": "stdout",
     "output_type": "stream",
     "text": [
      "['apple', 'banana', 'guava', 'watermelon', 'apple']\n"
     ]
    }
   ],
   "source": [
    "list_fruits.append('apple')\n",
    "print(list_fruits)"
   ]
  },
  {
   "cell_type": "code",
   "execution_count": 114,
   "metadata": {},
   "outputs": [
    {
     "name": "stdout",
     "output_type": "stream",
     "text": [
      "['banana', 'guava', 'watermelon']\n"
     ]
    }
   ],
   "source": [
    "list_fruits.remove('apple')\n",
    "print(list_fruits)"
   ]
  },
  {
   "cell_type": "code",
   "execution_count": 4,
   "metadata": {},
   "outputs": [
    {
     "data": {
      "text/plain": [
       "[14, 43, 56, 78, 93]"
      ]
     },
     "execution_count": 4,
     "metadata": {},
     "output_type": "execute_result"
    }
   ],
   "source": [
    "# sort option\n",
    "listnumbers=[14, 56, 78, 93, 43]\n",
    "listnumbers.sort()\n",
    "listnumbers"
   ]
  },
  {
   "cell_type": "markdown",
   "metadata": {},
   "source": [
    "### Question 6: Create a tuple and perform pop, append, update, remove, delete, add element and sort operation"
   ]
  },
  {
   "cell_type": "code",
   "execution_count": 22,
   "metadata": {},
   "outputs": [
    {
     "data": {
      "text/plain": [
       "tuple"
      ]
     },
     "execution_count": 22,
     "metadata": {},
     "output_type": "execute_result"
    }
   ],
   "source": [
    "# tuple is immutable and most of the above operations cannot be performed\n",
    "list_new=[1,3, 5, 87, 45, 22]\n",
    "tuple_new=tuple(list_new)\n",
    "type(tuple_new)"
   ]
  },
  {
   "cell_type": "code",
   "execution_count": 26,
   "metadata": {},
   "outputs": [
    {
     "data": {
      "text/plain": [
       "[1, 3, 5, 22, 45, 87]"
      ]
     },
     "execution_count": 26,
     "metadata": {},
     "output_type": "execute_result"
    }
   ],
   "source": [
    "sorted(tuple_new)"
   ]
  },
  {
   "cell_type": "markdown",
   "metadata": {},
   "source": [
    "### Question 7: Create a set and perform pop, append, update, remove, delete, add element and sort operation"
   ]
  },
  {
   "cell_type": "code",
   "execution_count": 6,
   "metadata": {},
   "outputs": [
    {
     "data": {
      "text/plain": [
       "set"
      ]
     },
     "execution_count": 6,
     "metadata": {},
     "output_type": "execute_result"
    }
   ],
   "source": [
    "set_numbers = {13, 34, 56, 78, 98, 108, 212}\n",
    "type(set_numbers)"
   ]
  },
  {
   "cell_type": "code",
   "execution_count": 7,
   "metadata": {},
   "outputs": [
    {
     "data": {
      "text/plain": [
       "{13, 56, 78, 98, 108, 212}"
      ]
     },
     "execution_count": 7,
     "metadata": {},
     "output_type": "execute_result"
    }
   ],
   "source": [
    "#perform pop\n",
    "pop1=set_numbers.pop()\n",
    "set_numbers"
   ]
  },
  {
   "cell_type": "code",
   "execution_count": 10,
   "metadata": {},
   "outputs": [
    {
     "data": {
      "text/plain": [
       "{108, 13, 212, 56, 68, '68', 78, 98}"
      ]
     },
     "execution_count": 10,
     "metadata": {},
     "output_type": "execute_result"
    }
   ],
   "source": [
    "# performing add\n",
    "set_numbers.add(68)\n",
    "set_numbers"
   ]
  },
  {
   "cell_type": "code",
   "execution_count": 15,
   "metadata": {},
   "outputs": [
    {
     "data": {
      "text/plain": [
       "{13, 56, 78, 98, 108, 212}"
      ]
     },
     "execution_count": 15,
     "metadata": {},
     "output_type": "execute_result"
    }
   ],
   "source": [
    "# performing remove\n",
    "set_numbers.remove('68')\n",
    "set_numbers"
   ]
  },
  {
   "cell_type": "markdown",
   "metadata": {},
   "source": [
    "### Question 9: How to make a copy of list, tuple and dictionary "
   ]
  },
  {
   "cell_type": "code",
   "execution_count": 29,
   "metadata": {},
   "outputs": [
    {
     "name": "stdout",
     "output_type": "stream",
     "text": [
      "New List: [2, 3, 5, 7, 11, 'a']\n",
      "Old List: [2, 3, 5, 7, 11]\n"
     ]
    }
   ],
   "source": [
    "# for list\n",
    "old_list_primenumbers = [2, 3, 5, 7, 11]\n",
    "new_list = old_list_primenumbers.copy()\n",
    "\n",
    "# add element to list\n",
    "new_list.append('a')\n",
    "\n",
    "print('New List:', new_list )\n",
    "print('Old List:', old_list_primenumbers )"
   ]
  },
  {
   "cell_type": "code",
   "execution_count": 34,
   "metadata": {},
   "outputs": [],
   "source": [
    "# for tuple\n",
    "tuple_cars = (('USA','Ford'), ('Japan','Honda'), ('Italy','Alfa Romeo'), ('India', 'Maruti'))\n",
    "newt = tuple_cars\n",
    "# tuple is immutable"
   ]
  },
  {
   "cell_type": "code",
   "execution_count": 36,
   "metadata": {},
   "outputs": [
    {
     "data": {
      "text/plain": [
       "{'fruit': 'orange', 'car': 'Ford'}"
      ]
     },
     "execution_count": 36,
     "metadata": {},
     "output_type": "execute_result"
    }
   ],
   "source": [
    "#for dict\n",
    "dict1 = {\"fruit\": \"orange\", \"car\": \"Ford\"}\n",
    "dict2 = dict1.copy()\n",
    "dict2"
   ]
  },
  {
   "cell_type": "markdown",
   "metadata": {},
   "source": [
    "### Question 10: Write a function which accept input from keyboard and check if student grade should be First division, second division or Fail "
   ]
  },
  {
   "cell_type": "code",
   "execution_count": 38,
   "metadata": {},
   "outputs": [
    {
     "name": "stdout",
     "output_type": "stream",
     "text": [
      "Enter 'x' for exit.\n",
      "Enter marks obtained in 3 subjects: \n",
      "98\n",
      "58\n",
      "87\n",
      "Your division is 1\n"
     ]
    }
   ],
   "source": [
    "print(\"Enter 'x' for exit.\");\n",
    "print(\"Enter marks obtained in 3 subjects: \");\n",
    "mark1 = input();\n",
    "if mark1 == 'x':\n",
    "    exit();\n",
    "else:\n",
    "    sub1 = int(mark1);\n",
    "    sub2 = int(input());\n",
    "    sub3 = int(input());\n",
    "    sum = sub1 + sub2 + sub3;\n",
    "    average = sum/3;\n",
    "    if(average>=80 and average<=100):\n",
    "    \tprint(\"Your division is 1\");\n",
    "    elif(average>=61 and average<=79):\n",
    "    \tprint(\"Your division is 2\");\n",
    "    elif(average>=41 and average<=60):\n",
    "    \tprint(\"Your division is 3\");\n",
    "    elif(average>=0 and average<=39):\n",
    "    \tprint(\"Your division is fail\");"
   ]
  },
  {
   "cell_type": "markdown",
   "metadata": {},
   "source": [
    " ### Question 11-13: \n",
    "- teamA = {'India', 'Australia','Pakistan', 'England'}\n",
    "- teamB = {'Bangladesh', 'New Zealand', 'West Indies', 'India'}\n",
    "- use add, clear, copy, difference, differenc_update(), discard, intersection, intersection_update, \n",
    "- remove, symmetric_difference,  union, update \n"
   ]
  },
  {
   "cell_type": "code",
   "execution_count": 42,
   "metadata": {},
   "outputs": [
    {
     "data": {
      "text/plain": [
       "{'Australia', 'England', 'India', 'Netherlands', 'Pakistan'}"
      ]
     },
     "execution_count": 42,
     "metadata": {},
     "output_type": "execute_result"
    }
   ],
   "source": [
    "teamA = {'India', 'Australia','Pakistan', 'England'}\n",
    "teamB = {'Bangladesh', 'New Zealand', 'West Indies', 'India'}\n",
    "# using add\n",
    "teamA.add('Netherlands')\n",
    "teamA"
   ]
  },
  {
   "cell_type": "code",
   "execution_count": 44,
   "metadata": {},
   "outputs": [
    {
     "data": {
      "text/plain": [
       "set()"
      ]
     },
     "execution_count": 44,
     "metadata": {},
     "output_type": "execute_result"
    }
   ],
   "source": [
    "# using clear \n",
    "teamA.clear()\n",
    "teamA"
   ]
  },
  {
   "cell_type": "code",
   "execution_count": 45,
   "metadata": {},
   "outputs": [
    {
     "data": {
      "text/plain": [
       "{'Australia', 'England', 'India', 'Pakistan'}"
      ]
     },
     "execution_count": 45,
     "metadata": {},
     "output_type": "execute_result"
    }
   ],
   "source": [
    "# using copy\n",
    "teamA = {'India', 'Australia','Pakistan', 'England'}\n",
    "teamC=teamA.copy()\n",
    "teamC"
   ]
  },
  {
   "cell_type": "code",
   "execution_count": 46,
   "metadata": {},
   "outputs": [
    {
     "data": {
      "text/plain": [
       "{'Australia', 'England', 'Pakistan'}"
      ]
     },
     "execution_count": 46,
     "metadata": {},
     "output_type": "execute_result"
    }
   ],
   "source": [
    "# using difference\n",
    "z=teamA.difference(teamB)\n",
    "z"
   ]
  },
  {
   "cell_type": "code",
   "execution_count": 49,
   "metadata": {},
   "outputs": [
    {
     "name": "stdout",
     "output_type": "stream",
     "text": [
      "None\n"
     ]
    }
   ],
   "source": [
    "# using differenc_update()\n",
    "y=teamA.difference_update(teamB)\n",
    "print(y)"
   ]
  },
  {
   "cell_type": "code",
   "execution_count": 52,
   "metadata": {},
   "outputs": [
    {
     "data": {
      "text/plain": [
       "{'England'}"
      ]
     },
     "execution_count": 52,
     "metadata": {},
     "output_type": "execute_result"
    }
   ],
   "source": [
    "# using discard\n",
    "teamA.discard('Australia')\n",
    "teamA.discard('Pakistan')\n",
    "teamA"
   ]
  },
  {
   "cell_type": "code",
   "execution_count": 55,
   "metadata": {},
   "outputs": [
    {
     "name": "stdout",
     "output_type": "stream",
     "text": [
      "{'India'}\n"
     ]
    }
   ],
   "source": [
    "# using intersection\n",
    "teamA = {'India', 'Australia','Pakistan', 'England'}\n",
    "teamB = {'Bangladesh', 'New Zealand', 'West Indies', 'India'}\n",
    "c = teamA.intersection (teamB)\n",
    "print(c)"
   ]
  },
  {
   "cell_type": "code",
   "execution_count": 57,
   "metadata": {},
   "outputs": [
    {
     "name": "stdout",
     "output_type": "stream",
     "text": [
      "None\n"
     ]
    }
   ],
   "source": [
    "# using intersection_update\n",
    "d=teamA.intersection_update(teamB)\n",
    "print(d)"
   ]
  },
  {
   "cell_type": "code",
   "execution_count": 60,
   "metadata": {},
   "outputs": [
    {
     "data": {
      "text/plain": [
       "set()"
      ]
     },
     "execution_count": 60,
     "metadata": {},
     "output_type": "execute_result"
    }
   ],
   "source": [
    "# using remove function\n",
    "teamA.remove(\"India\")\n",
    "teamA"
   ]
  },
  {
   "cell_type": "code",
   "execution_count": 61,
   "metadata": {},
   "outputs": [
    {
     "data": {
      "text/plain": [
       "{'Australia',\n",
       " 'Bangladesh',\n",
       " 'England',\n",
       " 'New Zealand',\n",
       " 'Pakistan',\n",
       " 'West Indies'}"
      ]
     },
     "execution_count": 61,
     "metadata": {},
     "output_type": "execute_result"
    }
   ],
   "source": [
    "# symmetric difference \n",
    "teamA = {'India', 'Australia','Pakistan', 'England'}\n",
    "teamB = {'Bangladesh', 'New Zealand', 'West Indies', 'India'}\n",
    "teamA.symmetric_difference(teamB)"
   ]
  },
  {
   "cell_type": "code",
   "execution_count": 62,
   "metadata": {},
   "outputs": [
    {
     "data": {
      "text/plain": [
       "{'Australia',\n",
       " 'Bangladesh',\n",
       " 'England',\n",
       " 'India',\n",
       " 'New Zealand',\n",
       " 'Pakistan',\n",
       " 'West Indies'}"
      ]
     },
     "execution_count": 62,
     "metadata": {},
     "output_type": "execute_result"
    }
   ],
   "source": [
    "# using union\n",
    "teamA = {'India', 'Australia','Pakistan', 'England'}\n",
    "teamB = {'Bangladesh', 'New Zealand', 'West Indies', 'India'}\n",
    "teamA.union(teamB)"
   ]
  },
  {
   "cell_type": "markdown",
   "metadata": {},
   "source": [
    "### Question 14:\tWhat is list comprehension explain with 2 examples"
   ]
  },
  {
   "cell_type": "markdown",
   "metadata": {},
   "source": [
    "#### List comprehensions in python is a short and concise way of creating new lists using sequences which have already been defined. "
   ]
  },
  {
   "cell_type": "markdown",
   "metadata": {},
   "source": [
    "### Example 1"
   ]
  },
  {
   "cell_type": "code",
   "execution_count": 9,
   "metadata": {},
   "outputs": [
    {
     "name": "stdout",
     "output_type": "stream",
     "text": [
      "Output List using for loop: [62, 54, 84, 74]\n"
     ]
    }
   ],
   "source": [
    "input_list_numbers = [61, 62, 73, 54, 84, 55, 61, 74, 47] \n",
    "  \n",
    "output_list = [] \n",
    "# We wish to create a list with only even numbers \n",
    "for var in input_list_numbers: \n",
    "    if var % 2 == 0: \n",
    "        output_list.append(var) \n",
    "  \n",
    "print(\"Output List using for loop:\", output_list) "
   ]
  },
  {
   "cell_type": "markdown",
   "metadata": {},
   "source": [
    "### Example 2"
   ]
  },
  {
   "cell_type": "code",
   "execution_count": 10,
   "metadata": {},
   "outputs": [
    {
     "name": "stdout",
     "output_type": "stream",
     "text": [
      "[4, 9, 16, 25, 36, 49, 64, 81]\n"
     ]
    }
   ],
   "source": [
    "squarenumber=[i**2 for i in range(2,10)]\n",
    "print (squarenumber)"
   ]
  },
  {
   "cell_type": "markdown",
   "metadata": {},
   "source": [
    "### Question 15: What is the difference between List and tuple, explain with example"
   ]
  },
  {
   "cell_type": "markdown",
   "metadata": {},
   "source": [
    "#### Major differences between list and tuple are as follows:\n",
    "- List is mutable but tuple is immutable\n",
    "- Syntax for list and tuple are different\n",
    "- Tuples can consist of heterogeneous data structures but list consists of homogeneous data sequences"
   ]
  },
  {
   "cell_type": "code",
   "execution_count": null,
   "metadata": {},
   "outputs": [],
   "source": [
    "listdays =['Mon', 'Tues', 'Wed', 'Thurs', 'Fri', 'Sat', 'Sun']\n",
    "type (listdays)\n"
   ]
  },
  {
   "cell_type": "markdown",
   "metadata": {},
   "source": [
    "#### Mutability"
   ]
  },
  {
   "cell_type": "code",
   "execution_count": 25,
   "metadata": {},
   "outputs": [
    {
     "name": "stdout",
     "output_type": "stream",
     "text": [
      "['Mon', 'Tues', 'Wednesday', 'Thurs', 'Fri', 'Sat', 'Sun']\n"
     ]
    }
   ],
   "source": [
    "listdays[2]='Wednesday'\n",
    "print (listdays)"
   ]
  },
  {
   "cell_type": "code",
   "execution_count": 19,
   "metadata": {},
   "outputs": [
    {
     "data": {
      "text/plain": [
       "tuple"
      ]
     },
     "execution_count": 19,
     "metadata": {},
     "output_type": "execute_result"
    }
   ],
   "source": [
    "tupledays=('Mon', 'Tues', 'Wed', 'Thurs', 'Fri', 'Sat', 'Sun')\n",
    "type (tupledays)"
   ]
  },
  {
   "cell_type": "markdown",
   "metadata": {},
   "source": [
    "#### Immutability"
   ]
  },
  {
   "cell_type": "code",
   "execution_count": 26,
   "metadata": {},
   "outputs": [
    {
     "ename": "SyntaxError",
     "evalue": "can't assign to function call (<ipython-input-26-14ea1c7d1567>, line 1)",
     "output_type": "error",
     "traceback": [
      "\u001b[1;36m  File \u001b[1;32m\"<ipython-input-26-14ea1c7d1567>\"\u001b[1;36m, line \u001b[1;32m1\u001b[0m\n\u001b[1;33m    tupledays(2)='Wednesday'\u001b[0m\n\u001b[1;37m                            ^\u001b[0m\n\u001b[1;31mSyntaxError\u001b[0m\u001b[1;31m:\u001b[0m can't assign to function call\n"
     ]
    }
   ],
   "source": [
    "tupledays(2)='Wednesday'"
   ]
  },
  {
   "cell_type": "markdown",
   "metadata": {},
   "source": [
    "### Question 16: What is the output of"
   ]
  },
  {
   "cell_type": "code",
   "execution_count": 116,
   "metadata": {},
   "outputs": [
    {
     "name": "stdout",
     "output_type": "stream",
     "text": [
      "Sucess 0 and 1 or 1\n"
     ]
    }
   ],
   "source": [
    "if 1 and 0:\n",
    "    print(\"Sucess 1 and 0\")\n",
    "elif 0 and 0:\n",
    "    print(\"Sucess 0 and 0\")\n",
    "elif 0 and 1 or 1:\n",
    "    print(\"Sucess 0 and 1 or 1\")\n",
    "elif 0 and 0 or 1 and 1:\n",
    "    print(\"Sucess : 0 and 0 or 1 and 1\")\n",
    "\n"
   ]
  },
  {
   "cell_type": "markdown",
   "metadata": {},
   "source": [
    "### Question 17: What is the output of"
   ]
  },
  {
   "cell_type": "code",
   "execution_count": 117,
   "metadata": {},
   "outputs": [
    {
     "name": "stdout",
     "output_type": "stream",
     "text": [
      "10\n",
      "20\n",
      "30\n",
      "[10, 20, 30]\n",
      "40\n",
      "50\n",
      "60\n",
      "[40, 50, 60]\n",
      "70\n",
      "80\n",
      "90\n",
      "[70, 80, 90]\n"
     ]
    }
   ],
   "source": [
    "list_of_lists = [[10, 20, 30], [40, 50, 60], [70, 80, 90]]\n",
    "for list1 in list_of_lists: \n",
    "    for x in list1: \n",
    "        print(x)\n",
    "    print(list1)\n"
   ]
  },
  {
   "cell_type": "markdown",
   "metadata": {},
   "source": [
    "### Question 18: Print  the numpy version and the configuration"
   ]
  },
  {
   "cell_type": "code",
   "execution_count": 118,
   "metadata": {},
   "outputs": [
    {
     "name": "stdout",
     "output_type": "stream",
     "text": [
      "1.16.5\n"
     ]
    }
   ],
   "source": [
    "print(np.__version__)"
   ]
  },
  {
   "cell_type": "code",
   "execution_count": 119,
   "metadata": {},
   "outputs": [
    {
     "name": "stdout",
     "output_type": "stream",
     "text": [
      "mkl_info:\n",
      "    libraries = ['mkl_rt']\n",
      "    library_dirs = ['C:/Users/Bisht/Anaconda3\\\\Library\\\\lib']\n",
      "    define_macros = [('SCIPY_MKL_H', None), ('HAVE_CBLAS', None)]\n",
      "    include_dirs = ['C:\\\\Program Files (x86)\\\\IntelSWTools\\\\compilers_and_libraries_2019.0.117\\\\windows\\\\mkl', 'C:\\\\Program Files (x86)\\\\IntelSWTools\\\\compilers_and_libraries_2019.0.117\\\\windows\\\\mkl\\\\include', 'C:\\\\Program Files (x86)\\\\IntelSWTools\\\\compilers_and_libraries_2019.0.117\\\\windows\\\\mkl\\\\lib', 'C:/Users/Bisht/Anaconda3\\\\Library\\\\include']\n",
      "blas_mkl_info:\n",
      "    libraries = ['mkl_rt']\n",
      "    library_dirs = ['C:/Users/Bisht/Anaconda3\\\\Library\\\\lib']\n",
      "    define_macros = [('SCIPY_MKL_H', None), ('HAVE_CBLAS', None)]\n",
      "    include_dirs = ['C:\\\\Program Files (x86)\\\\IntelSWTools\\\\compilers_and_libraries_2019.0.117\\\\windows\\\\mkl', 'C:\\\\Program Files (x86)\\\\IntelSWTools\\\\compilers_and_libraries_2019.0.117\\\\windows\\\\mkl\\\\include', 'C:\\\\Program Files (x86)\\\\IntelSWTools\\\\compilers_and_libraries_2019.0.117\\\\windows\\\\mkl\\\\lib', 'C:/Users/Bisht/Anaconda3\\\\Library\\\\include']\n",
      "blas_opt_info:\n",
      "    libraries = ['mkl_rt']\n",
      "    library_dirs = ['C:/Users/Bisht/Anaconda3\\\\Library\\\\lib']\n",
      "    define_macros = [('SCIPY_MKL_H', None), ('HAVE_CBLAS', None)]\n",
      "    include_dirs = ['C:\\\\Program Files (x86)\\\\IntelSWTools\\\\compilers_and_libraries_2019.0.117\\\\windows\\\\mkl', 'C:\\\\Program Files (x86)\\\\IntelSWTools\\\\compilers_and_libraries_2019.0.117\\\\windows\\\\mkl\\\\include', 'C:\\\\Program Files (x86)\\\\IntelSWTools\\\\compilers_and_libraries_2019.0.117\\\\windows\\\\mkl\\\\lib', 'C:/Users/Bisht/Anaconda3\\\\Library\\\\include']\n",
      "lapack_mkl_info:\n",
      "    libraries = ['mkl_rt']\n",
      "    library_dirs = ['C:/Users/Bisht/Anaconda3\\\\Library\\\\lib']\n",
      "    define_macros = [('SCIPY_MKL_H', None), ('HAVE_CBLAS', None)]\n",
      "    include_dirs = ['C:\\\\Program Files (x86)\\\\IntelSWTools\\\\compilers_and_libraries_2019.0.117\\\\windows\\\\mkl', 'C:\\\\Program Files (x86)\\\\IntelSWTools\\\\compilers_and_libraries_2019.0.117\\\\windows\\\\mkl\\\\include', 'C:\\\\Program Files (x86)\\\\IntelSWTools\\\\compilers_and_libraries_2019.0.117\\\\windows\\\\mkl\\\\lib', 'C:/Users/Bisht/Anaconda3\\\\Library\\\\include']\n",
      "lapack_opt_info:\n",
      "    libraries = ['mkl_rt']\n",
      "    library_dirs = ['C:/Users/Bisht/Anaconda3\\\\Library\\\\lib']\n",
      "    define_macros = [('SCIPY_MKL_H', None), ('HAVE_CBLAS', None)]\n",
      "    include_dirs = ['C:\\\\Program Files (x86)\\\\IntelSWTools\\\\compilers_and_libraries_2019.0.117\\\\windows\\\\mkl', 'C:\\\\Program Files (x86)\\\\IntelSWTools\\\\compilers_and_libraries_2019.0.117\\\\windows\\\\mkl\\\\include', 'C:\\\\Program Files (x86)\\\\IntelSWTools\\\\compilers_and_libraries_2019.0.117\\\\windows\\\\mkl\\\\lib', 'C:/Users/Bisht/Anaconda3\\\\Library\\\\include']\n",
      "None\n"
     ]
    }
   ],
   "source": [
    "print(np.show_config())"
   ]
  },
  {
   "cell_type": "markdown",
   "metadata": {},
   "source": [
    "### Question 19: Create a vector with values ranging from 10 to 29"
   ]
  },
  {
   "cell_type": "code",
   "execution_count": 132,
   "metadata": {},
   "outputs": [
    {
     "name": "stdout",
     "output_type": "stream",
     "text": [
      "[10 11 12 13 14 15 16 17 18 19 20 21 22 23 24 25 26 27 28 29]\n"
     ]
    },
    {
     "data": {
      "text/plain": [
       "numpy.ndarray"
      ]
     },
     "execution_count": 132,
     "metadata": {},
     "output_type": "execute_result"
    }
   ],
   "source": [
    "from numpy import array\n",
    "w=np.arange(10,30)\n",
    "v= array (w)\n",
    "print(v)\n",
    "type(v)\n"
   ]
  },
  {
   "cell_type": "markdown",
   "metadata": {},
   "source": [
    "### Question 20: Create a 3x3 matrix with values ranging from 0 to 8 "
   ]
  },
  {
   "cell_type": "code",
   "execution_count": 135,
   "metadata": {},
   "outputs": [
    {
     "name": "stdout",
     "output_type": "stream",
     "text": [
      "[[0 1 2]\n",
      " [3 4 5]\n",
      " [6 7 8]]\n"
     ]
    }
   ],
   "source": [
    "x =  np.arange(0, 9).reshape(3,3)\n",
    "print(x)"
   ]
  },
  {
   "cell_type": "markdown",
   "metadata": {},
   "source": [
    "### Question 21: Create a 10x10 array with random values and find the minimum and maximum values"
   ]
  },
  {
   "cell_type": "code",
   "execution_count": 136,
   "metadata": {},
   "outputs": [
    {
     "name": "stdout",
     "output_type": "stream",
     "text": [
      "Original Array:\n",
      "[[0.00423658 0.46291104 0.9401926  0.80777509 0.95037424 0.93578901\n",
      "  0.50212759 0.03213456 0.71772165 0.52380602]\n",
      " [0.45473417 0.68869643 0.11559674 0.27651296 0.24995512 0.55171653\n",
      "  0.28025371 0.30183612 0.80399117 0.28024414]\n",
      " [0.48950463 0.65845958 0.8719045  0.97552375 0.06558185 0.75553982\n",
      "  0.75660248 0.0290311  0.07373396 0.97468577]\n",
      " [0.0830907  0.89014726 0.19236247 0.30408378 0.29228277 0.72104334\n",
      "  0.46939453 0.02412001 0.5304301  0.60566662]\n",
      " [0.1751445  0.8848475  0.8350587  0.4260589  0.07041979 0.05126772\n",
      "  0.13580153 0.96028611 0.56726698 0.85812077]\n",
      " [0.07492442 0.38412704 0.13719086 0.67121662 0.79565169 0.49080063\n",
      "  0.82564373 0.66831781 0.96097311 0.4761756 ]\n",
      " [0.58753416 0.03633565 0.01600496 0.12449883 0.6947049  0.05972928\n",
      "  0.81131477 0.70577045 0.77638984 0.26905289]\n",
      " [0.63522514 0.40392275 0.36798368 0.72064459 0.27702549 0.18708565\n",
      "  0.85987955 0.84277488 0.36911004 0.4820346 ]\n",
      " [0.10566631 0.58064282 0.97396925 0.3860952  0.54627917 0.86661661\n",
      "  0.83902464 0.77789814 0.92224366 0.38798678]\n",
      " [0.22441807 0.55724143 0.38558726 0.83217943 0.38745876 0.37450876\n",
      "  0.74589097 0.82861678 0.42697762 0.3520838 ]]\n",
      "Min and Max Values:\n",
      "0.004236577237063943 0.9755237467845299\n"
     ]
    }
   ],
   "source": [
    "x = np.random.random((10,10))\n",
    "print(\"Original Array:\")\n",
    "print(x) \n",
    "xmin, xmax = x.min(), x.max()\n",
    "print(\"Min and Max Values:\")\n",
    "print(xmin, xmax)"
   ]
  },
  {
   "cell_type": "markdown",
   "metadata": {},
   "source": [
    "### Question 22: Create a random vector of size 30 and find the mean and median value "
   ]
  },
  {
   "cell_type": "code",
   "execution_count": 157,
   "metadata": {},
   "outputs": [
    {
     "name": "stdout",
     "output_type": "stream",
     "text": [
      "Original array:\n",
      "[0.73592688 0.2170691  0.45418003 0.79447199 0.79866278 0.43048484\n",
      " 0.01571716 0.48651231 0.75037716 0.19044042 0.62538958 0.79502096\n",
      " 0.33884686 0.05572676 0.51769364 0.35177491 0.85056823 0.07012216\n",
      " 0.59221299 0.85323157 0.36920413 0.08253434 0.74231823 0.64401426\n",
      " 0.30221983 0.32559089 0.15500882 0.13604979 0.2060225  0.71665049]\n",
      "Meanvalue and Medianvalue\n",
      "0.45346812044371276 0.4423324354314189\n"
     ]
    }
   ],
   "source": [
    "y = np.random.random(30)\n",
    "print(\"Original array:\")\n",
    "print(y)\n",
    "import statistics\n",
    "xmean,xmedian = statistics.mean(y),statistics.median(y)\n",
    "print (\"Meanvalue and Medianvalue\")\n",
    "print(xmean,xmedian)"
   ]
  },
  {
   "cell_type": "markdown",
   "metadata": {},
   "source": [
    "### Question 23: Define an array and find the max value and index of max value"
   ]
  },
  {
   "cell_type": "code",
   "execution_count": 163,
   "metadata": {},
   "outputs": [
    {
     "name": "stdout",
     "output_type": "stream",
     "text": [
      "105\n"
     ]
    }
   ],
   "source": [
    "s=np.array([14,17,87,105,64,89,12])\n",
    "Maxvalue=np.amax(s)\n",
    "print(Maxvalue)"
   ]
  },
  {
   "cell_type": "code",
   "execution_count": 166,
   "metadata": {},
   "outputs": [
    {
     "name": "stdout",
     "output_type": "stream",
     "text": [
      "Returned tuple of arrays : (array([3], dtype=int64),)\n",
      "List of Indices of maximum element : [3]\n"
     ]
    }
   ],
   "source": [
    "result = np.where(s == np.amax(s)) \n",
    "print('Returned tuple of arrays :', result)\n",
    "print('List of Indices of maximum element :', result[0])"
   ]
  },
  {
   "cell_type": "markdown",
   "metadata": {},
   "source": [
    "### Question 24: How to find the memory size of any array"
   ]
  },
  {
   "cell_type": "code",
   "execution_count": 170,
   "metadata": {},
   "outputs": [
    {
     "name": "stdout",
     "output_type": "stream",
     "text": [
      "69120 bytes\n"
     ]
    }
   ],
   "source": [
    "n = np.zeros((1440,6))\n",
    "print(\"%d bytes\" % (n.size * n.itemsize))"
   ]
  },
  {
   "cell_type": "markdown",
   "metadata": {},
   "source": [
    "### Question 25: Create a 3x3 identity matrix "
   ]
  },
  {
   "cell_type": "code",
   "execution_count": 179,
   "metadata": {},
   "outputs": [
    {
     "name": "stdout",
     "output_type": "stream",
     "text": [
      "\n",
      "Matrix a : \n",
      " [[1. 0. 0.]\n",
      " [0. 1. 0.]\n",
      " [0. 0. 1.]]\n"
     ]
    }
   ],
   "source": [
    "a = np.identity(3) \n",
    "print(\"\\nMatrix a : \\n\", a) "
   ]
  },
  {
   "cell_type": "code",
   "execution_count": null,
   "metadata": {},
   "outputs": [],
   "source": []
  }
 ],
 "metadata": {
  "kernelspec": {
   "display_name": "Python 3",
   "language": "python",
   "name": "python3"
  },
  "language_info": {
   "codemirror_mode": {
    "name": "ipython",
    "version": 3
   },
   "file_extension": ".py",
   "mimetype": "text/x-python",
   "name": "python",
   "nbconvert_exporter": "python",
   "pygments_lexer": "ipython3",
   "version": "3.7.4"
  }
 },
 "nbformat": 4,
 "nbformat_minor": 2
}
